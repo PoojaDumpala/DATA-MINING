{
 "cells": [
  {
   "cell_type": "code",
   "execution_count": 1,
   "metadata": {},
   "outputs": [],
   "source": [
    "import pandas as pd                    #importing the libraries\n",
    "import sklearn as sns\n",
    "import sklearn.metrics as snm"
   ]
  },
  {
   "cell_type": "code",
   "execution_count": 2,
   "metadata": {},
   "outputs": [],
   "source": [
    "Names= ['name','hobbies','age','study_level','married','class']             #loading the datasets\n",
    "df=pd.read_csv(\"hayes-roth.csv\",names=Names)"
   ]
  },
  {
   "cell_type": "code",
   "execution_count": 3,
   "metadata": {},
   "outputs": [
    {
     "data": {
      "text/plain": [
       "(132, 6)"
      ]
     },
     "execution_count": 3,
     "metadata": {},
     "output_type": "execute_result"
    }
   ],
   "source": [
    "df.shape\n"
   ]
  },
  {
   "cell_type": "code",
   "execution_count": 4,
   "metadata": {},
   "outputs": [
    {
     "data": {
      "text/html": [
       "<div>\n",
       "<style scoped>\n",
       "    .dataframe tbody tr th:only-of-type {\n",
       "        vertical-align: middle;\n",
       "    }\n",
       "\n",
       "    .dataframe tbody tr th {\n",
       "        vertical-align: top;\n",
       "    }\n",
       "\n",
       "    .dataframe thead th {\n",
       "        text-align: right;\n",
       "    }\n",
       "</style>\n",
       "<table border=\"1\" class=\"dataframe\">\n",
       "  <thead>\n",
       "    <tr style=\"text-align: right;\">\n",
       "      <th></th>\n",
       "      <th>name</th>\n",
       "      <th>hobbies</th>\n",
       "      <th>age</th>\n",
       "      <th>study_level</th>\n",
       "      <th>married</th>\n",
       "      <th>class</th>\n",
       "    </tr>\n",
       "  </thead>\n",
       "  <tbody>\n",
       "    <tr>\n",
       "      <th>0</th>\n",
       "      <td>92</td>\n",
       "      <td>2</td>\n",
       "      <td>1</td>\n",
       "      <td>1</td>\n",
       "      <td>2</td>\n",
       "      <td>1</td>\n",
       "    </tr>\n",
       "    <tr>\n",
       "      <th>1</th>\n",
       "      <td>10</td>\n",
       "      <td>2</td>\n",
       "      <td>1</td>\n",
       "      <td>3</td>\n",
       "      <td>2</td>\n",
       "      <td>2</td>\n",
       "    </tr>\n",
       "    <tr>\n",
       "      <th>2</th>\n",
       "      <td>83</td>\n",
       "      <td>3</td>\n",
       "      <td>1</td>\n",
       "      <td>4</td>\n",
       "      <td>1</td>\n",
       "      <td>3</td>\n",
       "    </tr>\n",
       "    <tr>\n",
       "      <th>3</th>\n",
       "      <td>61</td>\n",
       "      <td>2</td>\n",
       "      <td>4</td>\n",
       "      <td>2</td>\n",
       "      <td>2</td>\n",
       "      <td>3</td>\n",
       "    </tr>\n",
       "    <tr>\n",
       "      <th>4</th>\n",
       "      <td>107</td>\n",
       "      <td>1</td>\n",
       "      <td>1</td>\n",
       "      <td>3</td>\n",
       "      <td>4</td>\n",
       "      <td>3</td>\n",
       "    </tr>\n",
       "    <tr>\n",
       "      <th>5</th>\n",
       "      <td>113</td>\n",
       "      <td>1</td>\n",
       "      <td>1</td>\n",
       "      <td>3</td>\n",
       "      <td>2</td>\n",
       "      <td>2</td>\n",
       "    </tr>\n",
       "  </tbody>\n",
       "</table>\n",
       "</div>"
      ],
      "text/plain": [
       "   name  hobbies  age  study_level  married  class\n",
       "0    92        2    1            1        2      1\n",
       "1    10        2    1            3        2      2\n",
       "2    83        3    1            4        1      3\n",
       "3    61        2    4            2        2      3\n",
       "4   107        1    1            3        4      3\n",
       "5   113        1    1            3        2      2"
      ]
     },
     "execution_count": 4,
     "metadata": {},
     "output_type": "execute_result"
    }
   ],
   "source": [
    "df.head(6)"
   ]
  },
  {
   "cell_type": "code",
   "execution_count": 5,
   "metadata": {},
   "outputs": [],
   "source": [
    "X=df.iloc[:,:-1]"
   ]
  },
  {
   "cell_type": "code",
   "execution_count": 6,
   "metadata": {},
   "outputs": [
    {
     "data": {
      "text/plain": [
       "(132, 5)"
      ]
     },
     "execution_count": 6,
     "metadata": {},
     "output_type": "execute_result"
    }
   ],
   "source": [
    "X.shape"
   ]
  },
  {
   "cell_type": "code",
   "execution_count": 7,
   "metadata": {},
   "outputs": [
    {
     "data": {
      "text/html": [
       "<div>\n",
       "<style scoped>\n",
       "    .dataframe tbody tr th:only-of-type {\n",
       "        vertical-align: middle;\n",
       "    }\n",
       "\n",
       "    .dataframe tbody tr th {\n",
       "        vertical-align: top;\n",
       "    }\n",
       "\n",
       "    .dataframe thead th {\n",
       "        text-align: right;\n",
       "    }\n",
       "</style>\n",
       "<table border=\"1\" class=\"dataframe\">\n",
       "  <thead>\n",
       "    <tr style=\"text-align: right;\">\n",
       "      <th></th>\n",
       "      <th>name</th>\n",
       "      <th>hobbies</th>\n",
       "      <th>age</th>\n",
       "      <th>study_level</th>\n",
       "      <th>married</th>\n",
       "    </tr>\n",
       "  </thead>\n",
       "  <tbody>\n",
       "    <tr>\n",
       "      <th>0</th>\n",
       "      <td>92</td>\n",
       "      <td>2</td>\n",
       "      <td>1</td>\n",
       "      <td>1</td>\n",
       "      <td>2</td>\n",
       "    </tr>\n",
       "    <tr>\n",
       "      <th>1</th>\n",
       "      <td>10</td>\n",
       "      <td>2</td>\n",
       "      <td>1</td>\n",
       "      <td>3</td>\n",
       "      <td>2</td>\n",
       "    </tr>\n",
       "    <tr>\n",
       "      <th>2</th>\n",
       "      <td>83</td>\n",
       "      <td>3</td>\n",
       "      <td>1</td>\n",
       "      <td>4</td>\n",
       "      <td>1</td>\n",
       "    </tr>\n",
       "    <tr>\n",
       "      <th>3</th>\n",
       "      <td>61</td>\n",
       "      <td>2</td>\n",
       "      <td>4</td>\n",
       "      <td>2</td>\n",
       "      <td>2</td>\n",
       "    </tr>\n",
       "    <tr>\n",
       "      <th>4</th>\n",
       "      <td>107</td>\n",
       "      <td>1</td>\n",
       "      <td>1</td>\n",
       "      <td>3</td>\n",
       "      <td>4</td>\n",
       "    </tr>\n",
       "    <tr>\n",
       "      <th>5</th>\n",
       "      <td>113</td>\n",
       "      <td>1</td>\n",
       "      <td>1</td>\n",
       "      <td>3</td>\n",
       "      <td>2</td>\n",
       "    </tr>\n",
       "    <tr>\n",
       "      <th>6</th>\n",
       "      <td>80</td>\n",
       "      <td>3</td>\n",
       "      <td>1</td>\n",
       "      <td>3</td>\n",
       "      <td>2</td>\n",
       "    </tr>\n",
       "    <tr>\n",
       "      <th>7</th>\n",
       "      <td>125</td>\n",
       "      <td>3</td>\n",
       "      <td>4</td>\n",
       "      <td>2</td>\n",
       "      <td>4</td>\n",
       "    </tr>\n",
       "    <tr>\n",
       "      <th>8</th>\n",
       "      <td>36</td>\n",
       "      <td>2</td>\n",
       "      <td>2</td>\n",
       "      <td>1</td>\n",
       "      <td>1</td>\n",
       "    </tr>\n",
       "    <tr>\n",
       "      <th>9</th>\n",
       "      <td>105</td>\n",
       "      <td>3</td>\n",
       "      <td>2</td>\n",
       "      <td>1</td>\n",
       "      <td>1</td>\n",
       "    </tr>\n",
       "  </tbody>\n",
       "</table>\n",
       "</div>"
      ],
      "text/plain": [
       "   name  hobbies  age  study_level  married\n",
       "0    92        2    1            1        2\n",
       "1    10        2    1            3        2\n",
       "2    83        3    1            4        1\n",
       "3    61        2    4            2        2\n",
       "4   107        1    1            3        4\n",
       "5   113        1    1            3        2\n",
       "6    80        3    1            3        2\n",
       "7   125        3    4            2        4\n",
       "8    36        2    2            1        1\n",
       "9   105        3    2            1        1"
      ]
     },
     "execution_count": 7,
     "metadata": {},
     "output_type": "execute_result"
    }
   ],
   "source": [
    "X.head(10)"
   ]
  },
  {
   "cell_type": "code",
   "execution_count": 8,
   "metadata": {},
   "outputs": [
    {
     "data": {
      "text/plain": [
       "0      1\n",
       "1      2\n",
       "2      3\n",
       "3      3\n",
       "4      3\n",
       "      ..\n",
       "127    3\n",
       "128    1\n",
       "129    2\n",
       "130    2\n",
       "131    1\n",
       "Name: class, Length: 132, dtype: int64"
      ]
     },
     "execution_count": 8,
     "metadata": {},
     "output_type": "execute_result"
    }
   ],
   "source": [
    "y=df.iloc[:,5]\n",
    "y"
   ]
  },
  {
   "cell_type": "code",
   "execution_count": 9,
   "metadata": {},
   "outputs": [
    {
     "data": {
      "text/plain": [
       "0    1\n",
       "1    2\n",
       "2    3\n",
       "3    3\n",
       "4    3\n",
       "5    2\n",
       "6    2\n",
       "7    3\n",
       "8    1\n",
       "9    1\n",
       "Name: class, dtype: int64"
      ]
     },
     "execution_count": 9,
     "metadata": {},
     "output_type": "execute_result"
    }
   ],
   "source": [
    "y.shape\n",
    "y.head(10)"
   ]
  },
  {
   "cell_type": "code",
   "execution_count": null,
   "metadata": {},
   "outputs": [],
   "source": []
  },
  {
   "cell_type": "markdown",
   "metadata": {},
   "source": [
    "# Feature Scaling"
   ]
  },
  {
   "cell_type": "code",
   "execution_count": 10,
   "metadata": {},
   "outputs": [],
   "source": [
    " from sklearn.preprocessing import StandardScaler\n",
    "from sklearn.model_selection import train_test_split\n",
    "sc_x=StandardScaler()\n",
    "X_sc=sc_x.fit_transform(X)"
   ]
  },
  {
   "cell_type": "code",
   "execution_count": 11,
   "metadata": {
    "scrolled": true
   },
   "outputs": [
    {
     "data": {
      "text/plain": [
       "array([[ 0.66922065,  0.        , -1.010753  , -1.010753  ,  0.0481311 ],\n",
       "       [-1.48278301,  0.        , -1.010753  ,  1.10701519,  0.0481311 ],\n",
       "       [ 0.43302513,  1.22474487, -1.010753  ,  2.16589928, -1.010753  ],\n",
       "       [-0.14434171,  0.        ,  2.16589928,  0.0481311 ,  0.0481311 ],\n",
       "       [ 1.06287986, -1.22474487, -1.010753  ,  1.10701519,  2.16589928],\n",
       "       [ 1.22034354, -1.22474487, -1.010753  ,  1.10701519,  0.0481311 ],\n",
       "       [ 0.35429329,  1.22474487, -1.010753  ,  1.10701519,  0.0481311 ],\n",
       "       [ 1.53527091,  1.22474487,  2.16589928,  0.0481311 ,  2.16589928],\n",
       "       [-0.80044039,  0.        ,  0.0481311 , -1.010753  , -1.010753  ],\n",
       "       [ 1.01039197,  1.22474487,  0.0481311 , -1.010753  , -1.010753  ],\n",
       "       [ 0.38053723, -1.22474487,  0.0481311 , -1.010753  , -1.010753  ],\n",
       "       [ 1.45653907,  0.        ,  0.0481311 ,  1.10701519,  2.16589928],\n",
       "       [ 0.72170855, -1.22474487, -1.010753  ,  0.0481311 , -1.010753  ],\n",
       "       [-0.17058566,  0.        , -1.010753  ,  0.0481311 ,  0.0481311 ],\n",
       "       [-1.53527091,  0.        ,  2.16589928, -1.010753  ,  2.16589928],\n",
       "       [-1.22034354, -1.22474487, -1.010753  ,  1.10701519,  1.10701519],\n",
       "       [ 0.48551302,  1.22474487,  0.0481311 , -1.010753  ,  0.0481311 ],\n",
       "       [-0.43302513, -1.22474487,  0.0481311 , -1.010753  , -1.010753  ],\n",
       "       [ 0.03936592,  1.22474487,  1.10701519,  0.0481311 , -1.010753  ],\n",
       "       [ 0.59048881,  1.22474487, -1.010753  ,  1.10701519,  0.0481311 ],\n",
       "       [-0.38053723, -1.22474487,  0.0481311 ,  0.0481311 , -1.010753  ],\n",
       "       [-1.24658749,  1.22474487,  0.0481311 , -1.010753  ,  1.10701519],\n",
       "       [ 1.35156328,  0.        , -1.010753  ,  0.0481311 , -1.010753  ],\n",
       "       [-1.32531933,  1.22474487,  0.0481311 , -1.010753  ,  1.10701519],\n",
       "       [ 0.64297671,  0.        ,  1.10701519,  0.0481311 , -1.010753  ],\n",
       "       [ 0.32804934,  1.22474487,  0.0481311 ,  0.0481311 , -1.010753  ],\n",
       "       [-1.1416117 ,  1.22474487,  0.0481311 , -1.010753  ,  1.10701519],\n",
       "       [-1.08912381,  0.        , -1.010753  ,  0.0481311 ,  0.0481311 ],\n",
       "       [-0.95790407, -1.22474487, -1.010753  ,  1.10701519,  0.0481311 ],\n",
       "       [-0.2493175 ,  1.22474487,  0.0481311 , -1.010753  , -1.010753  ],\n",
       "       [-1.66649064, -1.22474487,  2.16589928, -1.010753  , -1.010753  ],\n",
       "       [ 1.24658749,  0.        ,  0.0481311 , -1.010753  ,  1.10701519],\n",
       "       [-0.77419644, -1.22474487,  0.0481311 , -1.010753  ,  1.10701519],\n",
       "       [-0.01312197, -1.22474487, -1.010753  , -1.010753  ,  0.0481311 ],\n",
       "       [ 1.1416117 ,  0.        ,  2.16589928,  1.10701519, -1.010753  ],\n",
       "       [ 1.29907538,  1.22474487, -1.010753  ,  0.0481311 ,  0.0481311 ],\n",
       "       [ 0.56424486, -1.22474487, -1.010753  ,  0.0481311 ,  0.0481311 ],\n",
       "       [ 0.27556145,  1.22474487,  0.0481311 ,  0.0481311 , -1.010753  ],\n",
       "       [ 0.40678118, -1.22474487,  0.0481311 , -1.010753  ,  0.0481311 ],\n",
       "       [-0.06560987,  1.22474487,  2.16589928,  1.10701519,  0.0481311 ],\n",
       "       [ 0.45926908,  0.        ,  0.0481311 ,  0.0481311 , -1.010753  ],\n",
       "       [ 0.51175697,  0.        ,  0.0481311 , -1.010753  ,  0.0481311 ],\n",
       "       [-1.5877588 ,  1.22474487,  0.0481311 , -1.010753  ,  1.10701519],\n",
       "       [ 0.1968296 ,  1.22474487,  0.0481311 , -1.010753  , -1.010753  ],\n",
       "       [ 1.03663591,  1.22474487, -1.010753  ,  0.0481311 , -1.010753  ],\n",
       "       [ 1.27283144, -1.22474487,  0.0481311 , -1.010753  ,  1.10701519],\n",
       "       [ 1.66649064,  0.        , -1.010753  , -1.010753  ,  0.0481311 ],\n",
       "       [-0.32804934, -1.22474487, -1.010753  , -1.010753  ,  0.0481311 ],\n",
       "       [-0.87917223, -1.22474487,  0.0481311 ,  0.0481311 ,  1.10701519],\n",
       "       [ 0.01312197,  1.22474487,  1.10701519, -1.010753  , -1.010753  ],\n",
       "       [ 0.06560987,  1.22474487,  1.10701519,  1.10701519, -1.010753  ],\n",
       "       [-0.72170855,  1.22474487,  0.0481311 , -1.010753  ,  0.0481311 ],\n",
       "       [-0.35429329,  1.22474487,  0.0481311 , -1.010753  ,  0.0481311 ],\n",
       "       [ 1.5877588 ,  1.22474487, -1.010753  ,  0.0481311 , -1.010753  ],\n",
       "       [ 0.77419644, -1.22474487, -1.010753  , -1.010753  ,  0.0481311 ],\n",
       "       [ 1.43029512,  0.        , -1.010753  ,  1.10701519,  0.0481311 ],\n",
       "       [ 0.09185382,  0.        ,  0.0481311 ,  0.0481311 , -1.010753  ],\n",
       "       [ 1.48278301,  0.        , -1.010753  ,  0.0481311 , -1.010753  ],\n",
       "       [-0.64297671,  0.        ,  0.0481311 , -1.010753  ,  1.10701519],\n",
       "       [ 0.30180539,  0.        , -1.010753  ,  0.0481311 ,  0.0481311 ],\n",
       "       [-1.45653907, -1.22474487,  0.0481311 ,  2.16589928,  0.0481311 ],\n",
       "       [ 1.6402467 ,  0.        ,  0.0481311 , -1.010753  ,  0.0481311 ],\n",
       "       [ 1.61400275, -1.22474487, -1.010753  ,  0.0481311 ,  2.16589928],\n",
       "       [-1.61400275, -1.22474487,  1.10701519,  0.0481311 , -1.010753  ],\n",
       "       [-1.6402467 ,  0.        ,  2.16589928,  2.16589928,  0.0481311 ],\n",
       "       [ 0.74795249,  0.        ,  1.10701519,  0.0481311 , -1.010753  ],\n",
       "       [ 0.17058566,  1.22474487, -1.010753  ,  0.0481311 ,  0.0481311 ],\n",
       "       [-1.06287986, -1.22474487, -1.010753  ,  0.0481311 ,  0.0481311 ],\n",
       "       [-0.48551302, -1.22474487,  1.10701519,  0.0481311 ,  2.16589928],\n",
       "       [ 0.98414802, -1.22474487, -1.010753  ,  0.0481311 ,  0.0481311 ],\n",
       "       [ 0.93166012,  1.22474487, -1.010753  ,  2.16589928,  0.0481311 ],\n",
       "       [-1.69273459,  0.        , -1.010753  ,  1.10701519,  0.0481311 ],\n",
       "       [-0.66922065, -1.22474487, -1.010753  ,  1.10701519,  0.0481311 ],\n",
       "       [ 1.37780723,  1.22474487, -1.010753  ,  1.10701519,  0.0481311 ],\n",
       "       [ 0.22307355, -1.22474487,  0.0481311 ,  2.16589928,  2.16589928],\n",
       "       [-0.51175697, -1.22474487,  2.16589928,  0.0481311 , -1.010753  ],\n",
       "       [ 0.6954646 ,  0.        , -1.010753  ,  0.0481311 , -1.010753  ],\n",
       "       [-0.53800092,  1.22474487,  2.16589928, -1.010753  ,  0.0481311 ],\n",
       "       [ 1.71897854,  0.        ,  0.0481311 , -1.010753  , -1.010753  ],\n",
       "       [ 1.08912381, -1.22474487, -1.010753  ,  0.0481311 , -1.010753  ],\n",
       "       [-1.27283144,  0.        ,  0.0481311 ,  2.16589928,  1.10701519],\n",
       "       [-0.11809776,  1.22474487, -1.010753  ,  0.0481311 ,  0.0481311 ],\n",
       "       [ 1.40405117, -1.22474487, -1.010753  ,  1.10701519,  0.0481311 ],\n",
       "       [-0.82668434, -1.22474487,  0.0481311 , -1.010753  ,  1.10701519],\n",
       "       [-1.03663591, -1.22474487,  2.16589928,  2.16589928, -1.010753  ],\n",
       "       [ 0.82668434,  1.22474487,  1.10701519,  1.10701519,  0.0481311 ],\n",
       "       [ 1.11536775,  0.        ,  0.0481311 , -1.010753  ,  1.10701519],\n",
       "       [-0.93166012,  1.22474487,  1.10701519,  0.0481311 , -1.010753  ],\n",
       "       [ 1.1940996 , -1.22474487, -1.010753  , -1.010753  ,  1.10701519],\n",
       "       [-0.85292828,  0.        ,  0.0481311 , -1.010753  ,  0.0481311 ],\n",
       "       [-0.09185382,  0.        ,  0.0481311 ,  0.0481311 , -1.010753  ],\n",
       "       [-0.03936592,  0.        ,  1.10701519,  0.0481311 ,  1.10701519],\n",
       "       [ 1.32531933, -1.22474487,  1.10701519,  0.0481311 , -1.010753  ],\n",
       "       [-0.27556145,  0.        ,  0.0481311 , -1.010753  ,  0.0481311 ],\n",
       "       [-0.1968296 , -1.22474487, -1.010753  , -1.010753  ,  0.0481311 ],\n",
       "       [ 0.2493175 ,  1.22474487,  0.0481311 ,  0.0481311 , -1.010753  ],\n",
       "       [-1.71897854,  1.22474487,  0.0481311 , -1.010753  , -1.010753  ],\n",
       "       [-1.01039197, -1.22474487, -1.010753  ,  0.0481311 , -1.010753  ],\n",
       "       [-1.16785565,  1.22474487, -1.010753  ,  2.16589928,  2.16589928],\n",
       "       [-0.98414802,  1.22474487,  1.10701519,  0.0481311 , -1.010753  ],\n",
       "       [ 1.16785565,  0.        ,  1.10701519,  0.0481311 , -1.010753  ],\n",
       "       [ 0.80044039,  0.        , -1.010753  ,  1.10701519, -1.010753  ],\n",
       "       [-0.45926908, -1.22474487,  0.0481311 , -1.010753  ,  0.0481311 ],\n",
       "       [-0.40678118,  1.22474487, -1.010753  , -1.010753  ,  0.0481311 ],\n",
       "       [ 0.53800092,  0.        ,  0.0481311 ,  2.16589928, -1.010753  ],\n",
       "       [-0.22307355, -1.22474487,  0.0481311 ,  0.0481311 , -1.010753  ],\n",
       "       [-0.90541618,  0.        ,  1.10701519,  0.0481311 , -1.010753  ],\n",
       "       [ 0.14434171,  0.        ,  0.0481311 , -1.010753  ,  2.16589928],\n",
       "       [-0.30180539, -1.22474487,  2.16589928,  0.0481311 ,  1.10701519],\n",
       "       [ 0.95790407,  0.        ,  0.0481311 , -1.010753  , -1.010753  ],\n",
       "       [-1.56151486, -1.22474487,  0.0481311 , -1.010753  , -1.010753  ],\n",
       "       [ 0.85292828,  0.        ,  0.0481311 ,  1.10701519,  0.0481311 ],\n",
       "       [-1.35156328, -1.22474487,  1.10701519,  0.0481311 , -1.010753  ],\n",
       "       [ 1.56151486,  1.22474487, -1.010753  ,  0.0481311 , -1.010753  ],\n",
       "       [-0.56424486,  1.22474487, -1.010753  , -1.010753  ,  0.0481311 ],\n",
       "       [ 0.90541618,  1.22474487,  1.10701519, -1.010753  ,  2.16589928],\n",
       "       [ 0.87917223,  0.        ,  1.10701519,  2.16589928, -1.010753  ],\n",
       "       [-1.11536775, -1.22474487,  0.0481311 ,  1.10701519,  1.10701519],\n",
       "       [ 1.50902696,  1.22474487,  1.10701519,  0.0481311 ,  0.0481311 ],\n",
       "       [-1.40405117,  1.22474487,  1.10701519,  2.16589928,  0.0481311 ],\n",
       "       [-1.37780723, -1.22474487,  0.0481311 ,  0.0481311 , -1.010753  ],\n",
       "       [-0.74795249,  0.        , -1.010753  , -1.010753  ,  2.16589928],\n",
       "       [ 0.11809776,  1.22474487, -1.010753  ,  0.0481311 ,  0.0481311 ],\n",
       "       [-0.61673276,  1.22474487,  0.0481311 ,  0.0481311 ,  2.16589928],\n",
       "       [ 1.69273459,  0.        ,  1.10701519, -1.010753  ,  1.10701519],\n",
       "       [-1.29907538,  0.        , -1.010753  , -1.010753  ,  0.0481311 ],\n",
       "       [-1.43029512,  1.22474487,  2.16589928, -1.010753  ,  1.10701519],\n",
       "       [-0.59048881, -1.22474487, -1.010753  ,  2.16589928,  1.10701519],\n",
       "       [-0.6954646 ,  0.        , -1.010753  ,  0.0481311 , -1.010753  ],\n",
       "       [ 0.61673276, -1.22474487,  0.0481311 , -1.010753  ,  0.0481311 ],\n",
       "       [-1.1940996 , -1.22474487,  0.0481311 ,  0.0481311 , -1.010753  ],\n",
       "       [-1.50902696,  1.22474487, -1.010753  , -1.010753  ,  0.0481311 ]])"
      ]
     },
     "execution_count": 11,
     "metadata": {},
     "output_type": "execute_result"
    }
   ],
   "source": [
    "X_sc"
   ]
  },
  {
   "cell_type": "code",
   "execution_count": 12,
   "metadata": {},
   "outputs": [
    {
     "data": {
      "text/plain": [
       "11.489125293076057"
      ]
     },
     "execution_count": 12,
     "metadata": {},
     "output_type": "execute_result"
    }
   ],
   "source": [
    "import math\n",
    "math.sqrt(len(X_sc))"
   ]
  },
  {
   "cell_type": "code",
   "execution_count": 13,
   "metadata": {},
   "outputs": [
    {
     "data": {
      "text/plain": [
       "KNeighborsClassifier(metric='euclidean')"
      ]
     },
     "execution_count": 13,
     "metadata": {},
     "output_type": "execute_result"
    }
   ],
   "source": [
    "from sklearn.neighbors import KNeighborsClassifier\n",
    "classifier=KNeighborsClassifier(n_neighbors=5,p=2 ,metric='euclidean')\n",
    "classifier.fit(X_sc,y)"
   ]
  },
  {
   "cell_type": "code",
   "execution_count": 14,
   "metadata": {},
   "outputs": [
    {
     "data": {
      "text/plain": [
       "array([1, 2, 3, 3, 3, 2, 2, 2, 2, 1, 2, 3, 1, 2, 3, 1, 2, 2, 1, 1, 2, 2,\n",
       "       1, 2, 2, 2, 2, 2, 2, 1, 1, 2, 2, 1, 1, 1, 1, 2, 2, 1, 2, 2, 2, 1,\n",
       "       1, 2, 1, 1, 2, 1, 2, 2, 2, 1, 1, 1, 2, 1, 2, 2, 2, 1, 3, 2, 3, 2,\n",
       "       2, 2, 2, 2, 1, 2, 2, 1, 3, 3, 1, 3, 1, 1, 3, 2, 2, 2, 3, 2, 2, 2,\n",
       "       1, 1, 2, 3, 1, 2, 1, 2, 1, 2, 3, 2, 2, 1, 2, 1, 3, 2, 2, 1, 3, 1,\n",
       "       1, 1, 2, 1, 1, 3, 3, 1, 2, 3, 2, 1, 2, 1, 2, 1, 3, 1, 2, 2, 2, 1])"
      ]
     },
     "execution_count": 14,
     "metadata": {},
     "output_type": "execute_result"
    }
   ],
   "source": [
    "y_pred=classifier.predict(X_sc)\n",
    "y_pred"
   ]
  },
  {
   "cell_type": "markdown",
   "metadata": {},
   "source": [
    "# K Fold Validation"
   ]
  },
  {
   "cell_type": "code",
   "execution_count": 15,
   "metadata": {},
   "outputs": [],
   "source": [
    "from sklearn.model_selection import KFold\n",
    "k_fold = KFold(n_splits=5)\n",
    "for train_value, test_value in k_fold.split(X_sc):\n",
    "    X_train, X_test = X_sc[train_value], X_sc[test_value]\n",
    "    y_train, y_test = y[train_value], y[test_value]"
   ]
  },
  {
   "cell_type": "code",
   "execution_count": 16,
   "metadata": {},
   "outputs": [
    {
     "data": {
      "text/plain": [
       "(106, 5)"
      ]
     },
     "execution_count": 16,
     "metadata": {},
     "output_type": "execute_result"
    }
   ],
   "source": [
    "X_train.shape"
   ]
  },
  {
   "cell_type": "code",
   "execution_count": 17,
   "metadata": {},
   "outputs": [
    {
     "data": {
      "text/plain": [
       "(26, 5)"
      ]
     },
     "execution_count": 17,
     "metadata": {},
     "output_type": "execute_result"
    }
   ],
   "source": [
    "X_test.shape"
   ]
  },
  {
   "cell_type": "code",
   "execution_count": 18,
   "metadata": {},
   "outputs": [
    {
     "data": {
      "text/plain": [
       "(106,)"
      ]
     },
     "execution_count": 18,
     "metadata": {},
     "output_type": "execute_result"
    }
   ],
   "source": [
    "y_train.shape"
   ]
  },
  {
   "cell_type": "code",
   "execution_count": 19,
   "metadata": {},
   "outputs": [
    {
     "data": {
      "text/plain": [
       "(26,)"
      ]
     },
     "execution_count": 19,
     "metadata": {},
     "output_type": "execute_result"
    }
   ],
   "source": [
    "y_test.shape"
   ]
  },
  {
   "cell_type": "markdown",
   "metadata": {},
   "source": [
    "# Cross Validation"
   ]
  },
  {
   "cell_type": "code",
   "execution_count": 20,
   "metadata": {},
   "outputs": [],
   "source": [
    "\n",
    "import numpy as np\n",
    "from sklearn.model_selection import cross_val_score\n",
    "from sklearn.naive_bayes import GaussianNB\n",
    " \n",
    "Goal=GaussianNB()\n",
    "validation=cross_val_score(Goal,X_train,y_train,scoring=\"neg_mean_absolute_error\")"
   ]
  },
  {
   "cell_type": "markdown",
   "metadata": {},
   "source": [
    "## MAE"
   ]
  },
  {
   "cell_type": "code",
   "execution_count": 21,
   "metadata": {},
   "outputs": [
    {
     "name": "stdout",
     "output_type": "stream",
     "text": [
      "MAE is : 0.40606060606060607\n"
     ]
    }
   ],
   "source": [
    "print(f\"MAE is : {np.mean(abs(validation))}\")\n"
   ]
  },
  {
   "cell_type": "markdown",
   "metadata": {},
   "source": [
    "## RMSE"
   ]
  },
  {
   "cell_type": "code",
   "execution_count": null,
   "metadata": {},
   "outputs": [],
   "source": []
  },
  {
   "cell_type": "code",
   "execution_count": 22,
   "metadata": {
    "scrolled": true
   },
   "outputs": [
    {
     "name": "stdout",
     "output_type": "stream",
     "text": [
      "RMSE is : 0.6372288490492298\n"
     ]
    }
   ],
   "source": [
    "print(f\"RMSE is : {np.sqrt(np.mean(abs(validation)))}\")"
   ]
  },
  {
   "cell_type": "code",
   "execution_count": null,
   "metadata": {},
   "outputs": [],
   "source": []
  },
  {
   "cell_type": "code",
   "execution_count": null,
   "metadata": {},
   "outputs": [],
   "source": []
  },
  {
   "cell_type": "code",
   "execution_count": null,
   "metadata": {},
   "outputs": [],
   "source": []
  }
 ],
 "metadata": {
  "kernelspec": {
   "display_name": "Python 3 (ipykernel)",
   "language": "python",
   "name": "python3"
  },
  "language_info": {
   "codemirror_mode": {
    "name": "ipython",
    "version": 3
   },
   "file_extension": ".py",
   "mimetype": "text/x-python",
   "name": "python",
   "nbconvert_exporter": "python",
   "pygments_lexer": "ipython3",
   "version": "3.8.11"
  }
 },
 "nbformat": 4,
 "nbformat_minor": 4
}
